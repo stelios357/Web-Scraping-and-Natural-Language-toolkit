{
 "cells": [
  {
   "cell_type": "markdown",
   "metadata": {},
   "source": [
    "# Natural Language ToolKit (NLTK)"
   ]
  },
  {
   "cell_type": "code",
   "execution_count": 1,
   "metadata": {},
   "outputs": [],
   "source": [
    "import nltk"
   ]
  },
  {
   "cell_type": "code",
   "execution_count": 2,
   "metadata": {},
   "outputs": [],
   "source": [
    "# nltk.download('all-corpora')"
   ]
  },
  {
   "cell_type": "code",
   "execution_count": 6,
   "metadata": {},
   "outputs": [
    {
     "data": {
      "text/plain": [
       "300"
      ]
     },
     "execution_count": 6,
     "metadata": {},
     "output_type": "execute_result"
    }
   ],
   "source": [
    "import json\n",
    "dataset = None\n",
    "\n",
    "with open('quotes.json', 'r') as f:\n",
    "    dataset = json.load(f)\n",
    "\n",
    "len(dataset)"
   ]
  },
  {
   "cell_type": "code",
   "execution_count": null,
   "metadata": {},
   "outputs": [],
   "source": [
    "quote = dataset[0]['quote']"
   ]
  },
  {
   "cell_type": "code",
   "execution_count": 10,
   "metadata": {},
   "outputs": [
    {
     "data": {
      "text/plain": [
       "[\"Don't\",\n",
       " 'cry',\n",
       " 'because',\n",
       " \"it's\",\n",
       " 'over,',\n",
       " 'smile',\n",
       " 'because',\n",
       " 'it',\n",
       " 'happened.']"
      ]
     },
     "execution_count": 10,
     "metadata": {},
     "output_type": "execute_result"
    }
   ],
   "source": [
    "# dataset[0]['quote'].split()"
   ]
  },
  {
   "cell_type": "markdown",
   "metadata": {},
   "source": [
    "# Tokenization"
   ]
  },
  {
   "cell_type": "code",
   "execution_count": 12,
   "metadata": {},
   "outputs": [
    {
     "data": {
      "text/plain": [
       "['Do',\n",
       " \"n't\",\n",
       " 'cry',\n",
       " 'because',\n",
       " 'it',\n",
       " \"'s\",\n",
       " 'over',\n",
       " ',',\n",
       " 'smile',\n",
       " 'because',\n",
       " 'it',\n",
       " 'happened',\n",
       " '.']"
      ]
     },
     "execution_count": 12,
     "metadata": {},
     "output_type": "execute_result"
    }
   ],
   "source": [
    "from nltk.tokenize import word_tokenize, sent_tokenize\n",
    "\n",
    "\n",
    "word_tokenize(dataset[0]['quote'])"
   ]
  },
  {
   "cell_type": "code",
   "execution_count": 15,
   "metadata": {},
   "outputs": [
    {
     "data": {
      "text/plain": [
       "\"I'm selfish, impatient and a little insecure. I make mistakes, I am out of control and at times hard to handle. But if you can't handle me at my worst, then you sure as hell don't deserve me at my best.\""
      ]
     },
     "execution_count": 15,
     "metadata": {},
     "output_type": "execute_result"
    }
   ],
   "source": [
    "# dataset[1]['quote']"
   ]
  },
  {
   "cell_type": "code",
   "execution_count": 14,
   "metadata": {},
   "outputs": [
    {
     "data": {
      "text/plain": [
       "[\"I'm selfish, impatient and a little insecure.\",\n",
       " 'I make mistakes, I am out of control and at times hard to handle.',\n",
       " \"But if you can't handle me at my worst, then you sure as hell don't deserve me at my best.\"]"
      ]
     },
     "execution_count": 14,
     "metadata": {},
     "output_type": "execute_result"
    }
   ],
   "source": [
    "sent_tokenize(dataset[1]['quote'])"
   ]
  },
  {
   "cell_type": "code",
   "execution_count": null,
   "metadata": {},
   "outputs": [],
   "source": []
  },
  {
   "cell_type": "markdown",
   "metadata": {},
   "source": [
    "# Removing stopwords, punctuations"
   ]
  },
  {
   "cell_type": "code",
   "execution_count": 19,
   "metadata": {},
   "outputs": [],
   "source": [
    "from nltk.corpus import stopwords\n",
    "stop_words = stopwords.words('english')\n",
    "\n",
    "from string import punctuation\n",
    "punct = list(punctuation)"
   ]
  },
  {
   "cell_type": "code",
   "execution_count": 21,
   "metadata": {},
   "outputs": [
    {
     "name": "stdout",
     "output_type": "stream",
     "text": [
      "I'm selfish, impatient and a little insecure. I make mistakes, I am out of control and at times hard to handle. But if you can't handle me at my worst, then you sure as hell don't deserve me at my best.\n"
     ]
    },
    {
     "data": {
      "text/plain": [
       "50"
      ]
     },
     "execution_count": 21,
     "metadata": {},
     "output_type": "execute_result"
    }
   ],
   "source": [
    "print(dataset[1]['quote'])\n",
    "tokens = word_tokenize(dataset[1]['quote'])\n",
    "len(tokens)"
   ]
  },
  {
   "cell_type": "code",
   "execution_count": 22,
   "metadata": {},
   "outputs": [
    {
     "data": {
      "text/plain": [
       "24"
      ]
     },
     "execution_count": 22,
     "metadata": {},
     "output_type": "execute_result"
    }
   ],
   "source": [
    "cleaned_tokens = [token for token in tokens if token not in stop_words \n",
    "                  and token not in punctuation]\n",
    "len(cleaned_tokens)"
   ]
  },
  {
   "cell_type": "markdown",
   "metadata": {},
   "source": [
    "### Custom Tokenizer"
   ]
  },
  {
   "cell_type": "code",
   "execution_count": 23,
   "metadata": {},
   "outputs": [
    {
     "data": {
      "text/plain": [
       "['My', 'email', 'address', 'is', ':', 'abc', '@', 'gmail.com']"
      ]
     },
     "execution_count": 23,
     "metadata": {},
     "output_type": "execute_result"
    }
   ],
   "source": [
    "word_tokenize(\"My email address is: abc@gmail.com\")"
   ]
  },
  {
   "cell_type": "code",
   "execution_count": 30,
   "metadata": {},
   "outputs": [
    {
     "data": {
      "text/plain": [
       "['abc@gmail.com', 'foo@bar.xyz']"
      ]
     },
     "execution_count": 30,
     "metadata": {},
     "output_type": "execute_result"
    }
   ],
   "source": [
    "from nltk.tokenize import RegexpTokenizer\n",
    "\n",
    "# regex = RegexpTokenizer(r'[A-Za-z0-9]+@[A-Za-z]+\\.[A-Za-z]+')\n",
    "regex = RegexpTokenizer(r'\\w+@[A-Za-z]+\\.[A-Za-z]+')\n",
    "regex.tokenize(\"My email addresses are: abc@gmail.com foo@bar.xyz\")"
   ]
  },
  {
   "cell_type": "markdown",
   "metadata": {},
   "source": [
    "# Stemming, Lemmatization"
   ]
  },
  {
   "cell_type": "code",
   "execution_count": 36,
   "metadata": {},
   "outputs": [],
   "source": [
    "from nltk.stem import PorterStemmer, SnowballStemmer\n",
    "from nltk import WordNetLemmatizer\n",
    "\n",
    "ps = PorterStemmer()\n",
    "ss = SnowballStemmer('english')\n",
    "lemmatizer = WordNetLemmatizer()"
   ]
  },
  {
   "cell_type": "code",
   "execution_count": 38,
   "metadata": {},
   "outputs": [
    {
     "name": "stdout",
     "output_type": "stream",
     "text": [
      "jump\n",
      "late\n",
      "assess\n",
      "ran\n",
      "run\n",
      "good\n"
     ]
    }
   ],
   "source": [
    "print(ps.stem('jumping'))\n",
    "print(ps.stem('lately'))\n",
    "print(ps.stem('assess'))\n",
    "print(ps.stem('ran'))\n",
    "\n",
    "print(lemmatizer.lemmatize('ran', 'v'))\n",
    "print(lemmatizer.lemmatize('better', 'a'))"
   ]
  },
  {
   "cell_type": "code",
   "execution_count": 41,
   "metadata": {},
   "outputs": [
    {
     "data": {
      "text/plain": [
       "638"
      ]
     },
     "execution_count": 41,
     "metadata": {},
     "output_type": "execute_result"
    }
   ],
   "source": [
    "all_sentences = []\n",
    "for q in dataset:\n",
    "    quote = q['quote']\n",
    "    for sentence in sent_tokenize(quote):\n",
    "        if len(sentence) > 1:\n",
    "            all_sentences.append(sentence)\n",
    "len(all_sentences)"
   ]
  },
  {
   "cell_type": "code",
   "execution_count": 43,
   "metadata": {},
   "outputs": [
    {
     "data": {
      "text/plain": [
       "[\"Don't cry because it's over, smile because it happened.\",\n",
       " \"I'm selfish, impatient and a little insecure.\",\n",
       " 'I make mistakes, I am out of control and at times hard to handle.',\n",
       " \"But if you can't handle me at my worst, then you sure as hell don't deserve me at my best.\",\n",
       " 'Be yourself; everyone else is already taken.']"
      ]
     },
     "execution_count": 43,
     "metadata": {},
     "output_type": "execute_result"
    }
   ],
   "source": [
    "all_sentences[0:5]"
   ]
  },
  {
   "cell_type": "markdown",
   "metadata": {},
   "source": [
    "# Bag of Words"
   ]
  },
  {
   "cell_type": "code",
   "execution_count": 53,
   "metadata": {},
   "outputs": [],
   "source": [
    "from sklearn.feature_extraction.text import CountVectorizer\n",
    "\n",
    "cv = CountVectorizer()\n",
    "vec = cv.fit_transform(all_sentences[:10])"
   ]
  },
  {
   "cell_type": "code",
   "execution_count": 54,
   "metadata": {},
   "outputs": [
    {
     "data": {
      "text/plain": [
       "<10x85 sparse matrix of type '<class 'numpy.int64'>'\n",
       "\twith 105 stored elements in Compressed Sparse Row format>"
      ]
     },
     "execution_count": 54,
     "metadata": {},
     "output_type": "execute_result"
    }
   ],
   "source": [
    "vec"
   ]
  },
  {
   "cell_type": "code",
   "execution_count": 61,
   "metadata": {},
   "outputs": [
    {
     "data": {
      "text/plain": [
       "['Do',\n",
       " \"n't\",\n",
       " 'cry',\n",
       " 'because',\n",
       " 'it',\n",
       " \"'s\",\n",
       " 'over',\n",
       " ',',\n",
       " 'smile',\n",
       " 'because',\n",
       " 'it',\n",
       " 'happened',\n",
       " '.']"
      ]
     },
     "execution_count": 61,
     "metadata": {},
     "output_type": "execute_result"
    }
   ],
   "source": [
    "word_tokenize(dataset[0]['quote'])"
   ]
  },
  {
   "cell_type": "code",
   "execution_count": 55,
   "metadata": {
    "scrolled": true
   },
   "outputs": [
    {
     "data": {
      "text/plain": [
       "{'don': 18,\n",
       " 'cry': 15,\n",
       " 'because': 8,\n",
       " 'it': 36,\n",
       " 'over': 56,\n",
       " 'smile': 61,\n",
       " 'happened': 25,\n",
       " 'selfish': 59,\n",
       " 'impatient': 32,\n",
       " 'and': 3,\n",
       " 'little': 39,\n",
       " 'insecure': 34,\n",
       " 'make': 43,\n",
       " 'mistakes': 48,\n",
       " 'am': 2,\n",
       " 'out': 55,\n",
       " 'of': 53,\n",
       " 'control': 14,\n",
       " 'at': 6,\n",
       " 'times': 73,\n",
       " 'hard': 26,\n",
       " 'to': 74,\n",
       " 'handle': 24,\n",
       " 'but': 12,\n",
       " 'if': 31,\n",
       " 'you': 83,\n",
       " 'can': 13,\n",
       " 'me': 46,\n",
       " 'my': 49,\n",
       " 'worst': 82,\n",
       " 'then': 68,\n",
       " 'sure': 65,\n",
       " 'as': 5,\n",
       " 'hell': 28,\n",
       " 'deserve': 17,\n",
       " 'best': 9,\n",
       " 'be': 7,\n",
       " 'yourself': 84,\n",
       " 'everyone': 21,\n",
       " 'else': 20,\n",
       " 'is': 35,\n",
       " 'already': 1,\n",
       " 'taken': 66,\n",
       " 'two': 75,\n",
       " 'things': 70,\n",
       " 'are': 4,\n",
       " 'infinite': 33,\n",
       " 'the': 67,\n",
       " 'universe': 76,\n",
       " 'human': 29,\n",
       " 'stupidity': 64,\n",
       " 'not': 52,\n",
       " 'about': 0,\n",
       " 'so': 62,\n",
       " 'many': 44,\n",
       " 'books': 11,\n",
       " 'time': 72,\n",
       " 'who': 80,\n",
       " 'say': 58,\n",
       " 'what': 79,\n",
       " 'feel': 22,\n",
       " 'those': 71,\n",
       " 'mind': 47,\n",
       " 'matter': 45,\n",
       " 'room': 57,\n",
       " 'without': 81,\n",
       " 'like': 37,\n",
       " 'body': 10,\n",
       " 'soul': 63,\n",
       " 've': 77,\n",
       " 'gotta': 23,\n",
       " 'dance': 16,\n",
       " 'there': 69,\n",
       " 'nobody': 51,\n",
       " 'watching': 78,\n",
       " 'love': 42,\n",
       " 'll': 41,\n",
       " 'never': 50,\n",
       " 'hurt': 30,\n",
       " 'sing': 60,\n",
       " 'listening': 38,\n",
       " 'live': 40,\n",
       " 'heaven': 27,\n",
       " 'on': 54,\n",
       " 'earth': 19}"
      ]
     },
     "execution_count": 55,
     "metadata": {},
     "output_type": "execute_result"
    }
   ],
   "source": [
    "cv.vocabulary_"
   ]
  },
  {
   "cell_type": "code",
   "execution_count": 56,
   "metadata": {},
   "outputs": [
    {
     "data": {
      "text/plain": [
       "85"
      ]
     },
     "execution_count": 56,
     "metadata": {},
     "output_type": "execute_result"
    }
   ],
   "source": [
    "len(cv.vocabulary_)"
   ]
  },
  {
   "cell_type": "code",
   "execution_count": 59,
   "metadata": {},
   "outputs": [
    {
     "data": {
      "text/plain": [
       "array([0, 0, 0, 0, 0, 0, 0, 0, 2, 0, 0, 0, 0, 0, 0, 1, 0, 0, 1, 0, 0, 0,\n",
       "       0, 0, 0, 1, 0, 0, 0, 0, 0, 0, 0, 0, 0, 0, 2, 0, 0, 0, 0, 0, 0, 0,\n",
       "       0, 0, 0, 0, 0, 0, 0, 0, 0, 0, 0, 0, 1, 0, 0, 0, 0, 1, 0, 0, 0, 0,\n",
       "       0, 0, 0, 0, 0, 0, 0, 0, 0, 0, 0, 0, 0, 0, 0, 0, 0, 0, 0],\n",
       "      dtype=int64)"
      ]
     },
     "execution_count": 59,
     "metadata": {},
     "output_type": "execute_result"
    }
   ],
   "source": [
    "ex = vec.toarray()[0]\n",
    "# len(ex), (ex!=0).sum()\n",
    "ex"
   ]
  },
  {
   "cell_type": "code",
   "execution_count": 58,
   "metadata": {},
   "outputs": [
    {
     "data": {
      "text/plain": [
       "[array(['because', 'cry', 'don', 'happened', 'it', 'over', 'smile'],\n",
       "       dtype='<U9')]"
      ]
     },
     "execution_count": 58,
     "metadata": {},
     "output_type": "execute_result"
    }
   ],
   "source": [
    "cv.inverse_transform(vec.toarray()[0])"
   ]
  },
  {
   "cell_type": "markdown",
   "metadata": {},
   "source": [
    "# Ngrams"
   ]
  },
  {
   "cell_type": "code",
   "execution_count": 66,
   "metadata": {},
   "outputs": [
    {
     "name": "stdout",
     "output_type": "stream",
     "text": [
      "[('This', 'is'), ('is', 'an'), ('an', 'example'), ('example', 'sentence')]\n",
      "[('This', 'is', 'an'), ('is', 'an', 'example'), ('an', 'example', 'sentence')]\n"
     ]
    }
   ],
   "source": [
    "from nltk import bigrams, trigrams, ngrams\n",
    "\n",
    "print(list(bigrams(\"This is an example sentence\".split())))\n",
    "\n",
    "print(list(trigrams(\"This is an example sentence\".split())))"
   ]
  },
  {
   "cell_type": "markdown",
   "metadata": {},
   "source": [
    "# POS Tagging, Named Entity Recognition"
   ]
  },
  {
   "cell_type": "code",
   "execution_count": 68,
   "metadata": {},
   "outputs": [
    {
     "data": {
      "text/plain": [
       "[('Do', 'VBP'),\n",
       " (\"n't\", 'RB'),\n",
       " ('cry', 'VB'),\n",
       " ('because', 'IN'),\n",
       " ('it', 'PRP'),\n",
       " (\"'s\", 'VBZ'),\n",
       " ('over', 'RP'),\n",
       " (',', ','),\n",
       " ('smile', 'RB'),\n",
       " ('because', 'IN'),\n",
       " ('it', 'PRP'),\n",
       " ('happened', 'VBD'),\n",
       " ('.', '.')]"
      ]
     },
     "execution_count": 68,
     "metadata": {},
     "output_type": "execute_result"
    }
   ],
   "source": [
    "from nltk import pos_tag, ne_chunk\n",
    "\n",
    "pos_tag(word_tokenize(dataset[0]['quote']))"
   ]
  },
  {
   "cell_type": "code",
   "execution_count": 70,
   "metadata": {},
   "outputs": [],
   "source": [
    "from nltk.corpus import brown"
   ]
  },
  {
   "cell_type": "code",
   "execution_count": 71,
   "metadata": {},
   "outputs": [
    {
     "data": {
      "text/plain": [
       "['adventure',\n",
       " 'belles_lettres',\n",
       " 'editorial',\n",
       " 'fiction',\n",
       " 'government',\n",
       " 'hobbies',\n",
       " 'humor',\n",
       " 'learned',\n",
       " 'lore',\n",
       " 'mystery',\n",
       " 'news',\n",
       " 'religion',\n",
       " 'reviews',\n",
       " 'romance',\n",
       " 'science_fiction']"
      ]
     },
     "execution_count": 71,
     "metadata": {},
     "output_type": "execute_result"
    }
   ],
   "source": [
    "brown.categories()"
   ]
  },
  {
   "cell_type": "code",
   "execution_count": 76,
   "metadata": {},
   "outputs": [
    {
     "data": {
      "text/plain": [
       "3032"
      ]
     },
     "execution_count": 76,
     "metadata": {},
     "output_type": "execute_result"
    }
   ],
   "source": [
    "sents = brown.sents(categories='government')\n",
    "len(sents)"
   ]
  },
  {
   "cell_type": "code",
   "execution_count": 91,
   "metadata": {},
   "outputs": [
    {
     "data": {
      "text/plain": [
       "'The Office of Business Economics ( OBE ) of the U.S. Department of Commerce provides basic measures of the national economy and current analysis of short-run changes in the economic situation and business outlook .'"
      ]
     },
     "execution_count": 91,
     "metadata": {},
     "output_type": "execute_result"
    }
   ],
   "source": [
    "' '.join(sents[0])"
   ]
  },
  {
   "cell_type": "code",
   "execution_count": 97,
   "metadata": {},
   "outputs": [
    {
     "data": {
      "image/png": "[encoded data removed]",
      "text/plain": [
       "Tree('S', [('The', 'DT'), ('Office', 'NNP'), ('of', 'IN'), Tree('ORGANIZATION', [('Business', 'NNP'), ('Economics', 'NNP')]), ('(', '('), Tree('ORGANIZATION', [('OBE', 'NNP')]), (')', ')'), ('of', 'IN'), ('the', 'DT'), Tree('ORGANIZATION', [('U.S.', 'NNP'), ('Department', 'NNP')]), ('of', 'IN'), Tree('ORGANIZATION', [('Commerce', 'NNP')]), ('provides', 'VBZ'), ('basic', 'JJ'), ('measures', 'NNS'), ('of', 'IN'), ('the', 'DT'), ('national', 'JJ'), ('economy', 'NN'), ('and', 'CC'), ('current', 'JJ'), ('analysis', 'NN'), ('of', 'IN'), ('short-run', 'JJ'), ('changes', 'NNS'), ('in', 'IN'), ('the', 'DT'), ('economic', 'JJ'), ('situation', 'NN'), ('and', 'CC'), ('business', 'NN'), ('outlook', 'NN'), ('.', '.')])"
      ]
     },
     "execution_count": 97,
     "metadata": {},
     "output_type": "execute_result"
    }
   ],
   "source": [
    "ne_chunk(pos_tag(word_tokenize(' '.join(sents[0]))))"
   ]
  },
  {
   "cell_type": "markdown",
   "metadata": {},
   "source": [
    "# TF-IDF\n",
    "#### (Term Frequency - Inverse Document Frequency)"
   ]
  },
  {
   "cell_type": "code",
   "execution_count": 103,
   "metadata": {},
   "outputs": [],
   "source": [
    "from sklearn.feature_extraction.text import TfidfVectorizer\n",
    "\n",
    "tfidf = TfidfVectorizer(ngram_range=(1,3))\n",
    "vec = tfidf.fit_transform(all_sentences)"
   ]
  },
  {
   "cell_type": "code",
   "execution_count": 104,
   "metadata": {},
   "outputs": [
    {
     "data": {
      "text/plain": [
       "<638x13861 sparse matrix of type '<class 'numpy.float64'>'\n",
       "\twith 21698 stored elements in Compressed Sparse Row format>"
      ]
     },
     "execution_count": 104,
     "metadata": {},
     "output_type": "execute_result"
    }
   ],
   "source": [
    "vec"
   ]
  },
  {
   "cell_type": "code",
   "execution_count": 105,
   "metadata": {},
   "outputs": [
    {
     "data": {
      "text/plain": [
       "array([0.24277294, 0.40403479, 0.21489387, 0.21489387, 0.2020174 ,\n",
       "       0.21489387, 0.21489387, 0.11463609, 0.21489387, 0.21489387,\n",
       "       0.19288139, 0.16714438, 0.21489387, 0.21489387, 0.21489387,\n",
       "       0.17086892, 0.21489387, 0.21489387, 0.17086892, 0.21489387,\n",
       "       0.21489387])"
      ]
     },
     "execution_count": 105,
     "metadata": {},
     "output_type": "execute_result"
    }
   ],
   "source": [
    "v = vec.toarray()[0]\n",
    "v[v!=0]"
   ]
  },
  {
   "cell_type": "code",
   "execution_count": null,
   "metadata": {},
   "outputs": [],
   "source": []
  }
 ],
 "metadata": {
  "kernelspec": {
   "display_name": "Python 3",
   "language": "python",
   "name": "python3"
  },
  "language_info": {
   "codemirror_mode": {
    "name": "ipython",
    "version": 3
   },
   "file_extension": ".py",
   "mimetype": "text/x-python",
   "name": "python",
   "nbconvert_exporter": "python",
   "pygments_lexer": "ipython3",
   "version": "3.7.0"
  }
 },
 "nbformat": 4,
 "nbformat_minor": 2
}
