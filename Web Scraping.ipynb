{
 "cells": [
  {
   "cell_type": "code",
   "execution_count": 1,
   "metadata": {},
   "outputs": [],
   "source": [
    "import requests\n",
    "from bs4 import BeautifulSoup"
   ]
  },
  {
   "cell_type": "code",
   "execution_count": 9,
   "metadata": {},
   "outputs": [],
   "source": [
    "BASE_URL = 'https://www.goodreads.com/quotes/?page='"
   ]
  },
  {
   "cell_type": "code",
   "execution_count": 10,
   "metadata": {},
   "outputs": [
    {
     "name": "stdout",
     "output_type": "stream",
     "text": [
      "10\n"
     ]
    },
    {
     "data": {
      "text/plain": [
       "<Response [200]>"
      ]
     },
     "execution_count": 10,
     "metadata": {},
     "output_type": "execute_result"
    }
   ],
   "source": [
    "n = input()\n",
    "r = requests.get(BASE_URL + n)\n",
    "r"
   ]
  },
  {
   "cell_type": "code",
   "execution_count": 16,
   "metadata": {},
   "outputs": [],
   "source": [
    "soup = BeautifulSoup(r.text, 'html.parser')"
   ]
  },
  {
   "cell_type": "code",
   "execution_count": 23,
   "metadata": {},
   "outputs": [],
   "source": [
    "# i = r.text.find('<div class=\"quotes\"')\n",
    "# i"
   ]
  },
  {
   "cell_type": "code",
   "execution_count": 25,
   "metadata": {},
   "outputs": [],
   "source": [
    "_ = soup.find('div', attrs={'class': 'quotes'})"
   ]
  },
  {
   "cell_type": "code",
   "execution_count": 27,
   "metadata": {},
   "outputs": [],
   "source": [
    "_ = soup.select('div.quotes')"
   ]
  },
  {
   "cell_type": "code",
   "execution_count": 80,
   "metadata": {},
   "outputs": [],
   "source": [
    "QUOTES = []"
   ]
  },
  {
   "cell_type": "code",
   "execution_count": 94,
   "metadata": {},
   "outputs": [],
   "source": [
    "def parse(html_blob):\n",
    "    soup = BeautifulSoup(html_blob, 'html.parser')\n",
    "    div_quotes = soup.find('div', attrs={'class': 'quotes'})\n",
    "    \n",
    "#     for div_quote in div_quotes.find_all('div', attrs={'class': 'quote'}):\n",
    "    for div_quote in div_quotes.select('div.quote'):\n",
    "        \n",
    "        div_quoteText = div_quote.select_one('div.quoteText')\n",
    "        div_quoteFooter = div_quote.select_one('div.quoteFooter')\n",
    "        div_tags = div_quoteFooter.find('div', attrs={'class': ['greyText', 'smallText', 'left']})\n",
    "        \n",
    "        tags = []\n",
    "        \n",
    "        if div_tags:\n",
    "            anchor_tags = div_tags.find_all('a')\n",
    "            anchor_likes = div_quoteFooter.find('a', attrs={'class': 'smallText'})\n",
    "            tags = [a.text for a in anchor_tags]\n",
    "        \n",
    "        quote = div_quoteText.text.strip().split('―')\n",
    "#         quote, author = '―'.join(quote[:-1]).strip(), quote[1]. strip()\n",
    "        quote, author = quote[0].strip()[1:-1], quote[1].strip()\n",
    "        author = author.split(',')[0]\n",
    "        \n",
    "\n",
    "        likes = int(anchor_likes.text.replace(' likes', ''))\n",
    "#         print(quote, author, tags, likes, sep='\\n', end='\\n\\n')\n",
    "\n",
    "        QUOTES.append({'author':author, 'quote':quote, 'tags': tags, 'likes': likes})\n",
    "\n",
    "##############################\n",
    "def scrape(n_pages):\n",
    "    for i in range(n_pages):\n",
    "        print('Onto Scraping Page No.', i+1)\n",
    "        url = BASE_URL + str(i+1)\n",
    "        r = requests.get(url)\n",
    "        parse(r.text)"
   ]
  },
  {
   "cell_type": "code",
   "execution_count": 95,
   "metadata": {},
   "outputs": [
    {
     "name": "stdout",
     "output_type": "stream",
     "text": [
      "Onto Scraping Page No. 1\n",
      "Onto Scraping Page No. 2\n",
      "Onto Scraping Page No. 3\n",
      "Onto Scraping Page No. 4\n",
      "Onto Scraping Page No. 5\n",
      "Onto Scraping Page No. 6\n",
      "Onto Scraping Page No. 7\n",
      "Onto Scraping Page No. 8\n",
      "Onto Scraping Page No. 9\n",
      "Onto Scraping Page No. 10\n"
     ]
    }
   ],
   "source": [
    "QUOTES = []\n",
    "scrape(10)"
   ]
  },
  {
   "cell_type": "code",
   "execution_count": 96,
   "metadata": {},
   "outputs": [
    {
     "data": {
      "text/plain": [
       "300"
      ]
     },
     "execution_count": 96,
     "metadata": {},
     "output_type": "execute_result"
    }
   ],
   "source": [
    "len(QUOTES)"
   ]
  },
  {
   "cell_type": "code",
   "execution_count": 100,
   "metadata": {},
   "outputs": [],
   "source": [
    "# QUOTES"
   ]
  },
  {
   "cell_type": "code",
   "execution_count": 35,
   "metadata": {},
   "outputs": [
    {
     "data": {
      "text/plain": [
       "30"
      ]
     },
     "execution_count": 35,
     "metadata": {},
     "output_type": "execute_result"
    }
   ],
   "source": [
    "len(all_quotes)"
   ]
  },
  {
   "cell_type": "code",
   "execution_count": 34,
   "metadata": {},
   "outputs": [],
   "source": [
    "div_quotes = soup.find('div', attrs={'class': 'quotes'})\n",
    "all_quotes = div_quotes.select('div.quote')"
   ]
  },
  {
   "cell_type": "code",
   "execution_count": 66,
   "metadata": {},
   "outputs": [],
   "source": [
    "# all_quotes[0]"
   ]
  },
  {
   "cell_type": "code",
   "execution_count": 43,
   "metadata": {},
   "outputs": [
    {
     "data": {
      "text/plain": [
       "<div class=\"greyText smallText left\">\n",
       "     tags:\n",
       "       <a href=\"/quotes/tag/greatness\">greatness</a>\n",
       "</div>"
      ]
     },
     "execution_count": 43,
     "metadata": {},
     "output_type": "execute_result"
    }
   ],
   "source": [
    "all_quotes[0].find('div', attrs={'class': ['greyText', 'smallText', 'left']})"
   ]
  },
  {
   "cell_type": "code",
   "execution_count": 45,
   "metadata": {},
   "outputs": [],
   "source": [
    "div_quote = all_quotes[0]"
   ]
  },
  {
   "cell_type": "code",
   "execution_count": 65,
   "metadata": {},
   "outputs": [
    {
     "data": {
      "text/plain": [
       "('“Keep away from people who try to belittle your ambitions. Small people always do that, but the really great make you feel that you, too, can become great.”',\n",
       " 'Mark Twain')"
      ]
     },
     "execution_count": 65,
     "metadata": {},
     "output_type": "execute_result"
    }
   ],
   "source": [
    "q, a = all_quotes[0].select_one('div.quoteText').text.strip().split('―')\n",
    "q.strip(), a.strip()"
   ]
  },
  {
   "cell_type": "code",
   "execution_count": 49,
   "metadata": {},
   "outputs": [
    {
     "data": {
      "text/plain": [
       "<div class=\"quoteFooter\">\n",
       "<div class=\"greyText smallText left\">\n",
       "     tags:\n",
       "       <a href=\"/quotes/tag/greatness\">greatness</a>\n",
       "</div>\n",
       "<div class=\"right\">\n",
       "<a class=\"smallText\" href=\"/quotes/2528-keep-away-from-people-who-try-to-belittle-your-ambitions\" title=\"View this quote\">12328 likes</a>\n",
       "</div>\n",
       "</div>"
      ]
     },
     "execution_count": 49,
     "metadata": {},
     "output_type": "execute_result"
    }
   ],
   "source": [
    "div_quoteFooter = div_quote.select_one('div.quoteFooter')\n",
    "div_quoteFooter"
   ]
  },
  {
   "cell_type": "code",
   "execution_count": 60,
   "metadata": {},
   "outputs": [
    {
     "data": {
      "text/plain": [
       "'greatness'"
      ]
     },
     "execution_count": 60,
     "metadata": {},
     "output_type": "execute_result"
    }
   ],
   "source": [
    "div_tags = div_quoteFooter.find('div', attrs={'class': ['greyText', 'smallText', 'left']})\n",
    "anchor_tags = div_tags.find_all('a')\n",
    "anchor_tags[0].text"
   ]
  },
  {
   "cell_type": "code",
   "execution_count": 61,
   "metadata": {},
   "outputs": [
    {
     "data": {
      "text/plain": [
       "'12328 likes'"
      ]
     },
     "execution_count": 61,
     "metadata": {},
     "output_type": "execute_result"
    }
   ],
   "source": [
    "anchor_likes = div_quoteFooter.find('a', attrs={'class': 'smallText'})\n",
    "anchor_likes.text"
   ]
  },
  {
   "cell_type": "code",
   "execution_count": 63,
   "metadata": {},
   "outputs": [
    {
     "data": {
      "text/plain": [
       "'asdfasdfa'"
      ]
     },
     "execution_count": 63,
     "metadata": {},
     "output_type": "execute_result"
    }
   ],
   "source": [
    "'              asdfasdfa             '.strip()"
   ]
  },
  {
   "cell_type": "markdown",
   "metadata": {},
   "source": [
    "#  Saving to a file"
   ]
  },
  {
   "cell_type": "code",
   "execution_count": 103,
   "metadata": {},
   "outputs": [],
   "source": [
    "import json\n",
    "with open('quotes.json', 'w') as f:\n",
    "    json.dump(QUOTES, f, indent=4)"
   ]
  },
  {
   "cell_type": "code",
   "execution_count": 104,
   "metadata": {},
   "outputs": [],
   "source": [
    "import csv\n",
    "\n",
    "with open('quotes.csv', 'w') as f:\n",
    "    writer = csv.DictWriter(f, fieldnames=['quote', 'author', 'tags', 'likes'])\n",
    "    writer.writeheader()\n",
    "    for q in QUOTES:\n",
    "        writer.writerow(q)"
   ]
  },
  {
   "cell_type": "code",
   "execution_count": 105,
   "metadata": {},
   "outputs": [
    {
     "data": {
      "text/html": [
       "<div>\n",
       "<style scoped>\n",
       "    .dataframe tbody tr th:only-of-type {\n",
       "        vertical-align: middle;\n",
       "    }\n",
       "\n",
       "    .dataframe tbody tr th {\n",
       "        vertical-align: top;\n",
       "    }\n",
       "\n",
       "    .dataframe thead th {\n",
       "        text-align: right;\n",
       "    }\n",
       "</style>\n",
       "<table border=\"1\" class=\"dataframe\">\n",
       "  <thead>\n",
       "    <tr style=\"text-align: right;\">\n",
       "      <th></th>\n",
       "      <th>quote</th>\n",
       "      <th>author</th>\n",
       "      <th>tags</th>\n",
       "      <th>likes</th>\n",
       "    </tr>\n",
       "  </thead>\n",
       "  <tbody>\n",
       "    <tr>\n",
       "      <th>0</th>\n",
       "      <td>Don't cry because it's over, smile because it ...</td>\n",
       "      <td>Dr. Seuss</td>\n",
       "      <td>['attributed-no-source', 'cry', 'crying', 'exp...</td>\n",
       "      <td>192350</td>\n",
       "    </tr>\n",
       "    <tr>\n",
       "      <th>1</th>\n",
       "      <td>I'm selfish, impatient and a little insecure. ...</td>\n",
       "      <td>Marilyn Monroe</td>\n",
       "      <td>['attributed-no-source', 'best', 'life', 'love...</td>\n",
       "      <td>147793</td>\n",
       "    </tr>\n",
       "    <tr>\n",
       "      <th>2</th>\n",
       "      <td>Be yourself; everyone else is already taken.</td>\n",
       "      <td>Oscar Wilde</td>\n",
       "      <td>['attributed-no-source', 'be-yourself', 'hones...</td>\n",
       "      <td>145473</td>\n",
       "    </tr>\n",
       "    <tr>\n",
       "      <th>3</th>\n",
       "      <td>Two things are infinite: the universe and huma...</td>\n",
       "      <td>Albert Einstein</td>\n",
       "      <td>['attributed-no-source', 'human-nature', 'humo...</td>\n",
       "      <td>129190</td>\n",
       "    </tr>\n",
       "    <tr>\n",
       "      <th>4</th>\n",
       "      <td>So many books, so little time.</td>\n",
       "      <td>Frank Zappa</td>\n",
       "      <td>['books', 'humor']</td>\n",
       "      <td>124444</td>\n",
       "    </tr>\n",
       "  </tbody>\n",
       "</table>\n",
       "</div>"
      ],
      "text/plain": [
       "                                               quote           author  \\\n",
       "0  Don't cry because it's over, smile because it ...        Dr. Seuss   \n",
       "1  I'm selfish, impatient and a little insecure. ...   Marilyn Monroe   \n",
       "2       Be yourself; everyone else is already taken.      Oscar Wilde   \n",
       "3  Two things are infinite: the universe and huma...  Albert Einstein   \n",
       "4                     So many books, so little time.      Frank Zappa   \n",
       "\n",
       "                                                tags   likes  \n",
       "0  ['attributed-no-source', 'cry', 'crying', 'exp...  192350  \n",
       "1  ['attributed-no-source', 'best', 'life', 'love...  147793  \n",
       "2  ['attributed-no-source', 'be-yourself', 'hones...  145473  \n",
       "3  ['attributed-no-source', 'human-nature', 'humo...  129190  \n",
       "4                                 ['books', 'humor']  124444  "
      ]
     },
     "execution_count": 105,
     "metadata": {},
     "output_type": "execute_result"
    }
   ],
   "source": [
    "from pandas import read_csv\n",
    "\n",
    "df = read_csv('quotes.csv')\n",
    "df.head()"
   ]
  },
  {
   "cell_type": "code",
   "execution_count": null,
   "metadata": {},
   "outputs": [],
   "source": []
  },
  {
   "cell_type": "code",
   "execution_count": null,
   "metadata": {},
   "outputs": [],
   "source": []
  }
 ],
 "metadata": {
  "kernelspec": {
   "display_name": "Python 3",
   "language": "python",
   "name": "python3"
  },
  "language_info": {
   "codemirror_mode": {
    "name": "ipython",
    "version": 3
   },
   "file_extension": ".py",
   "mimetype": "text/x-python",
   "name": "python",
   "nbconvert_exporter": "python",
   "pygments_lexer": "ipython3",
   "version": "3.7.0"
  }
 },
 "nbformat": 4,
 "nbformat_minor": 2
}
